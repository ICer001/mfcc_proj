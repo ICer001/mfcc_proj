{
 "cells": [
  {
   "cell_type": "code",
   "execution_count": 1,
   "metadata": {
    "collapsed": true
   },
   "outputs": [],
   "source": [
    "##########      zero rate cal        ############\n",
    "def calEnergy(wave_data,frmae_len):\n",
    "    \"\"\"\n",
    "    :param wave_data: binary data of audio file\n",
    "    :return: energy\n",
    "    \"\"\"\n",
    "    energy = []\n",
    "    sum = 0\n",
    "    frmae_len=np.int32(frmae_len)\n",
    "    for i in range(len(wave_data)):\n",
    "        sum = sum + (int(wave_data[i]) * int(wave_data[i]))\n",
    "        if (i + 1) % frmae_len == 0:\n",
    "            energy.append(sum)\n",
    "            sum = 0\n",
    "        elif i == len(wave_data) - 1:\n",
    "            energy.append(sum)\n",
    "    return energy"
   ]
  },
  {
   "cell_type": "code",
   "execution_count": 2,
   "metadata": {
    "collapsed": true
   },
   "outputs": [],
   "source": [
    "def calZeroCrossingRate(wave_data,frmae_len):\n",
    "    \"\"\"\n",
    "    :param wave_data: binary data of audio file\n",
    "    :return: ZeroCrossingRate\n",
    "    \"\"\"\n",
    "    zeroCrossingRate = []\n",
    "    sum = 0\n",
    "    frmae_len=np.int32(frmae_len)\n",
    "    for i in range(len(wave_data)):\n",
    "        sum = sum + np.abs(int(wave_data[i] >= 0) - int(wave_data[i - 1] >= 0))\n",
    "        if (i + 1) % frmae_len == 0:\n",
    "            zeroCrossingRate.append(float(sum) / (frmae_len-1))\n",
    "            sum = 0\n",
    "        elif i == len(wave_data) - 1:\n",
    "            zeroCrossingRate.append(float(sum) / (frmae_len-1))\n",
    "    return zeroCrossingRate"
   ]
  },
  {
   "cell_type": "code",
   "execution_count": 3,
   "metadata": {
    "collapsed": true
   },
   "outputs": [],
   "source": [
    "# 利用短时能量，短时过零率，使用双门限法进行端点检测\n",
    "def endPointDetect(energy, zeroCrossingRate) :\n",
    "    sum = 0\n",
    "    energyAverage = 0\n",
    "    for en in energy :\n",
    "        sum = sum + en\n",
    "    energyAverage = sum / len(energy)\n",
    "\n",
    "    sum = 0\n",
    "    for en in energy[:5] :\n",
    "        sum = sum + en\n",
    "    ML = sum / 5                        \n",
    "    MH = energyAverage / 4              #较高的能量阈值\n",
    "    ML = (ML + MH) / 4    #较低的能量阈值\n",
    "    sum = 0\n",
    "    for zcr in zeroCrossingRate[:5] :\n",
    "        sum = float(sum) + zcr             \n",
    "    Zs = sum / 5                     #过零率阈值\n",
    "\n",
    "    A = []\n",
    "    B = []\n",
    "    C = []\n",
    "\n",
    "    # 首先利用较大能量阈值 MH 进行初步检测\n",
    "    flag = 0\n",
    "    for i in range(len(energy)):\n",
    "        if len(A) == 0 and flag == 0 and energy[i] > MH :\n",
    "            A.append(i)\n",
    "            flag = 1\n",
    "        elif flag == 0 and energy[i] > MH and i - 21 > A[len(A) - 1]:\n",
    "            A.append(i)\n",
    "            flag = 1\n",
    "        elif flag == 0 and energy[i] > MH and i - 21 <= A[len(A) - 1]:\n",
    "            A = A[:len(A) - 1]\n",
    "            flag = 1\n",
    "\n",
    "        if flag == 1 and energy[i] < MH :\n",
    "            A.append(i)\n",
    "            flag = 0\n",
    "    # print(\"较高能量阈值，计算后的浊音A:\" + str(A))\n",
    "\n",
    "    # 利用较小能量阈值 ML 进行第二步能量检测\n",
    "    for j in range(len(A)) :\n",
    "        i = A[j]\n",
    "        if j % 2 == 1 :\n",
    "            while i < len(energy) and energy[i] > ML :\n",
    "                i = i + 1\n",
    "            B.append(i)\n",
    "        else :\n",
    "            while i > 0 and energy[i] > ML :\n",
    "                i = i - 1\n",
    "            B.append(i)\n",
    "    # print(\"较低能量阈值，增加一段语言B:\" + str(B))\n",
    "\n",
    "    # 利用过零率进行最后一步检测\n",
    "    for j in range(len(B)) :\n",
    "        i = B[j]\n",
    "        if j % 2 == 1 :\n",
    "            while i < len(zeroCrossingRate) and zeroCrossingRate[i] >= 3 * Zs :\n",
    "                i = i + 1\n",
    "            C.append(i)\n",
    "        else :\n",
    "            while i > 0 and zeroCrossingRate[i] >= 3 * Zs :\n",
    "                i = i - 1\n",
    "            C.append(i)\n",
    "    # print(\"过零率阈值，最终语音分段C:\" + str(C))\n",
    "    return C"
   ]
  },
  {
   "cell_type": "code",
   "execution_count": 4,
   "metadata": {
    "collapsed": true
   },
   "outputs": [],
   "source": [
    "##########      for recognize        ############\n",
    "def pre_operate(sig,frame_len):\n",
    "    '''预处理集总'''\n",
    "    # 过零率检测\n",
    "    zr=calZeroCrossingRate(sig,frame_len)\n",
    "    en=calEnergy(sig,frame_len)\n",
    "    C=endPointDetect(en,zr)\n",
    "    if((len(C)%2)==1):\n",
    "            C.append(int(len(sig)/frame_len))\n",
    "    D=np.array(C)*frame_len\n",
    "    \n",
    "    print(D)\n",
    "    dif=list(D[1::2]-D[0::2])\n",
    "    loc=dif.index(max(dif))*2\n",
    "    sig0=np.array(sig[D[loc]:D[loc+1]])\n",
    "    print(\"有效语音段:\",C[loc],C[loc+1])\n",
    "       \n",
    "    min0=np.min(sig0)\n",
    "    max0=np.max(sig0)\n",
    "    scale =np.double(max0 - min0)/32767.0\n",
    "    data_int = ((sig0 - min0) / scale)\n",
    "    sig2 =np.array(np.rint(data_int),dtype=np.int16)\n",
    "    \n",
    "    return sig2"
   ]
  },
  {
   "cell_type": "code",
   "execution_count": 5,
   "metadata": {
    "collapsed": true
   },
   "outputs": [],
   "source": [
    "def mfcccal(overlaypath,signal):\n",
    "    \"\"\"\n",
    "    使用Overlay调用MFCC提取硬件部分电路\n",
    "    \"\"\"\n",
    "    np.set_printoptions(suppress=True) \n",
    "\n",
    "    overlay0=Overlay(overlaypath)\n",
    "    x=overlay0.axi_dma_0\n",
    "    xlnk = Xlnk()\n",
    "        \n",
    "    len0=len(signal)\n",
    "    len1=(int(np.ceil(len0/500))*2-1)*12\n",
    "    \n",
    "    mfcc=np.zeros(len1, dtype=np.int16)\n",
    "    \n",
    "    input_buffer = xlnk.cma_array(shape=(len0*2,), dtype=np.int16)\n",
    "    output_buffer = xlnk.cma_array(shape=(len1,), dtype=np.int16)  \n",
    "    \n",
    "    for i in range(len0):\n",
    "        input_buffer[i] = signal[i]\n",
    "\n",
    "    start = time.time()\n",
    "    x.sendchannel.transfer(input_buffer)    \n",
    "    \n",
    "    x.recvchannel.transfer(output_buffer)\n",
    "    \n",
    "    end = time.time()\n",
    "    \n",
    "    for i in range(len1):\n",
    "         mfcc[i]=output_buffer[i] \n",
    "\n",
    "    print('time cost ' + str(round(end - start, 8)) + 's')\n",
    "    cost = round(end - start, 8)\n",
    "    speed = round(len0/cost,8)\n",
    "    print('transfer speed: ' + str(speed) + 'sample/s')\n",
    "    return mfcc"
   ]
  },
  {
   "cell_type": "code",
   "execution_count": 6,
   "metadata": {},
   "outputs": [
    {
     "name": "stdout",
     "output_type": "stream",
     "text": [
      "[33000 43000]\n",
      "有效语音段: 66 86\n",
      "time cost 0.00031972s\n",
      "transfer speed: 12510947.07869386sample/s\n"
     ]
    },
    {
     "data": {
      "image/png": "[encoded data removed]",
      "text/plain": [
       "<matplotlib.figure.Figure at 0x2e5a4f70>"
      ]
     },
     "metadata": {},
     "output_type": "display_data"
    }
   ],
   "source": [
    "import numpy as np\n",
    "import scipy.io.wavfile as wav\n",
    "import matplotlib.pyplot as plt \n",
    "import time\n",
    "\n",
    "from pynq.lib import dma\n",
    "from pynq import Overlay\n",
    "from pynq import Xlnk\n",
    "\n",
    "\n",
    "\n",
    "ovlpath=\"/home/xilinx/jupyter_notebooks/test0/mfcc/design_1_wrapper.bit\"\n",
    "(rate,sig)=wav.read(\"/home/xilinx/jupyter_notebooks/voice/voice/voice_for_test/3.wav\")\n",
    "\n",
    "\n",
    "sig2=(pre_operate(np.array(sig,dtype=np.double),500))[0:3999]\n",
    "sig1=np.insert(sig2,0,0)\n",
    "l1=len(sig1)\n",
    "\n",
    "a=np.array(mfcccal(ovlpath,sig1),dtype=np.int16)\n",
    "a1=(a/32)\n",
    "\n",
    "np.savetxt('/home/xilinx/jupyter_notebooks/test0/mfcc_rslt.txt',a1)\n",
    "\n",
    "\n",
    "\n",
    "%matplotlib inline \n",
    "np.savetxt('/home/xilinx/jupyter_notebooks/test0/a_for_test.txt',a,fmt=['%d'])\n",
    "\n",
    "l00=len(a1)\n",
    "l1=np.linspace(1,l00,l00)\n",
    "plt.figure(num=None, figsize=(15, 5)) \n",
    "plt.bar(l1,a1) \n",
    "plt.title(\"MFCC Results\") \n",
    "plt.xlabel(\"Coeffcients/Number\") \n",
    "plt.ylabel(\"Magnititude\")  \n",
    "plt.show()"
   ]
  },
  {
   "cell_type": "code",
   "execution_count": null,
   "metadata": {
    "collapsed": true
   },
   "outputs": [],
   "source": []
  }
 ],
 "metadata": {
  "kernelspec": {
   "display_name": "Python 3",
   "language": "python",
   "name": "python3"
  },
  "language_info": {
   "codemirror_mode": {
    "name": "ipython",
    "version": 3
   },
   "file_extension": ".py",
   "mimetype": "text/x-python",
   "name": "python",
   "nbconvert_exporter": "python",
   "pygments_lexer": "ipython3",
   "version": "3.6.0"
  }
 },
 "nbformat": 4,
 "nbformat_minor": 2
}
